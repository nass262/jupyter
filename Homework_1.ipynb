{
  "metadata": {
    "kernelspec": {
      "name": "python",
      "display_name": "Python (Pyodide)",
      "language": "python"
    },
    "language_info": {
      "codemirror_mode": {
        "name": "python",
        "version": 3
      },
      "file_extension": ".py",
      "mimetype": "text/x-python",
      "name": "python",
      "nbconvert_exporter": "python",
      "pygments_lexer": "ipython3",
      "version": "3.8"
    }
  },
  "nbformat_minor": 4,
  "nbformat": 4,
  "cells": [
    {
      "cell_type": "markdown",
      "source": "# Homework_1\n\n",
      "metadata": {}
    },
    {
      "cell_type": "code",
      "source": "",
      "metadata": {
        "trusted": true
      },
      "outputs": [],
      "execution_count": null
    },
    {
      "cell_type": "markdown",
      "source": "# Introduction",
      "metadata": {}
    },
    {
      "cell_type": "markdown",
      "source": "Welcome to this Jupyterlite Notebook exercise!",
      "metadata": {}
    },
    {
      "cell_type": "code",
      "source": "",
      "metadata": {
        "trusted": true
      },
      "outputs": [],
      "execution_count": null
    },
    {
      "cell_type": "markdown",
      "source": "# Data Science Programming Languages\n\n\n\n1. **Python**\n\n2. **R**\n\n3. **SQL (Structured Query Language)**.\n\n4. **Julia**\n",
      "metadata": {}
    },
    {
      "cell_type": "code",
      "source": "",
      "metadata": {
        "trusted": true
      },
      "outputs": [],
      "execution_count": null
    },
    {
      "cell_type": "markdown",
      "source": "# Data Science Libraries\n\n\n1. **NumPy**\n\n2. **Pandas**\n\n3. **Matplotlib**\n\n4. **Seaborn**\n\n5. **Scikit-learn**\n\n6. **TensorFlow**\n\n",
      "metadata": {}
    },
    {
      "cell_type": "code",
      "source": "",
      "metadata": {
        "trusted": true
      },
      "outputs": [],
      "execution_count": null
    },
    {
      "cell_type": "markdown",
      "source": "# Data Science Tools\n\n\n\n| Tool          | Description                                                                                           |\n|---------------|-------------------------------------------------------------------------------------------------------|\n| RStudio       | Integrated development environment (IDE) for R programming language |\n| Spyder        | Scientific Python Development Environment, offering features such as code editing, debugging, and variable exploration for data analysis tasks. |\n| Apache Spark  | Open-source distributed computing system designed for big data processing and analytics, with support for various programming languages like Scala, Python, and R. |\n| Apache Hadoop | Framework for distributed storage and processing of large datasets across clusters of computers, commonly used in big data analytics applications. |\n\n\n",
      "metadata": {}
    },
    {
      "cell_type": "code",
      "source": "",
      "metadata": {
        "trusted": true
      },
      "outputs": [],
      "execution_count": null
    },
    {
      "cell_type": "markdown",
      "source": "# Examples of Arithmetic Expressions\n\n\n**Addition**: Adding two numbers together.\n   - Example: \\( 5 + 3 = 8 \\)",
      "metadata": {}
    },
    {
      "cell_type": "code",
      "source": "",
      "metadata": {
        "trusted": true
      },
      "outputs": [],
      "execution_count": null
    },
    {
      "cell_type": "code",
      "source": "# Multiplication and Addition of Numbers\n\n\nnum1 = 5\nnum2 = 3\n\nresult_multiply = num1 * num2\nprint(\"Multiplication Result:\", result_multiply)\n\n\nresult_addition = num1 + num2\nprint(\"Addition Result:\", result_addition)",
      "metadata": {
        "trusted": true
      },
      "outputs": [
        {
          "name": "stdout",
          "text": "Multiplication Result: 15\nAddition Result: 8\n",
          "output_type": "stream"
        }
      ],
      "execution_count": 5
    },
    {
      "cell_type": "code",
      "source": "",
      "metadata": {
        "trusted": true
      },
      "outputs": [],
      "execution_count": null
    },
    {
      "cell_type": "code",
      "source": "# Conversion of Minutes to Hours\n\n\nminutes = 135\n\n\nhours = minutes / 60\n\n\nprint(minutes, \"minutes is equal to\", hours, \"hours.\")\n",
      "metadata": {
        "trusted": true
      },
      "outputs": [
        {
          "name": "stdout",
          "text": "135 minutes is equal to 2.25 hours.\n",
          "output_type": "stream"
        }
      ],
      "execution_count": 7
    },
    {
      "cell_type": "code",
      "source": "",
      "metadata": {
        "trusted": true
      },
      "outputs": [],
      "execution_count": null
    },
    {
      "cell_type": "markdown",
      "source": "# Objectives\n\nIn this exercise, our main objectives are:\n\n1. To familiarize ourselves with Jupyterlite Notebook and its functionalities.\n2. To explore various aspects of data science, including programming languages, libraries, tools, and arithmetic expressions.\n3. To practice creating markdown cells for documentation and code cells for implementing Python code.\n4. To reinforce our understanding of basic arithmetic operations and conversions in Python.\n5. To create a well-structured and informative notebook that can serve as a reference for future learning and projects in data science.\n\n",
      "metadata": {}
    },
    {
      "cell_type": "code",
      "source": "",
      "metadata": {
        "trusted": true
      },
      "outputs": [],
      "execution_count": null
    },
    {
      "cell_type": "markdown",
      "source": "# Author\n\nBadr eddine Nassir\n",
      "metadata": {}
    },
    {
      "cell_type": "code",
      "source": "",
      "metadata": {
        "trusted": true
      },
      "outputs": [],
      "execution_count": null
    }
  ]
}